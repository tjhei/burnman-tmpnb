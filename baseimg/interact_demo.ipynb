{
 "cells": [
  {
   "cell_type": "markdown",
   "metadata": {},
   "source": [
    "# Slider Demo \n",
    "\n",
    "This is a very simple interactive demo to show how sliders could work.\n",
    "\n",
    "** NOTE: please wait until this page loads completely**"
   ]
  },
  {
   "cell_type": "code",
   "execution_count": null,
   "metadata": {
    "collapsed": false
   },
   "outputs": [],
   "source": [
    "%matplotlib inline \n",
    "from ipywidgets import *\n",
    "import burnman\n",
    "from burnman import minerals\n",
    "import numpy as np\n",
    "import matplotlib.pyplot as plt"
   ]
  },
  {
   "cell_type": "markdown",
   "metadata": {},
   "source": [
    "Let us make a rock with x % perovskite and 1-x % periclase and plot vs PREM:"
   ]
  },
  {
   "cell_type": "code",
   "execution_count": null,
   "metadata": {
    "collapsed": false
   },
   "outputs": [],
   "source": [
    "@interact(pv=(0.0, 1.0))\n",
    "def plot(pv):\n",
    "    rock = burnman.Composite([minerals.SLB_2011.mg_perovskite(),\n",
    "                              minerals.SLB_2011.periclase()],\n",
    "                             [pv, 1.0-pv])\n",
    "    rock.debug_print()\n",
    "    depths = np.linspace(750e3, 2800e3, 20)\n",
    "    seismic_model = burnman.seismic.PREM()\n",
    "    pressure, seis_rho, seis_vp, seis_vs, seis_vphi = seismic_model.evaluate(\n",
    "        ['pressure', 'density', 'v_p', 'v_s', 'v_phi'], depths)\n",
    "    temperature = burnman.geotherm.brown_shankland(pressure)\n",
    "    density, vp, vs, vphi = rock.evaluate(\n",
    "        ['density', 'v_p', 'v_s', 'v_phi'], pressure, temperature)\n",
    "\n",
    "    fig = plt.figure(figsize=(9,4))\n",
    "    plt.subplot(1, 2, 1)    \n",
    "    plt.plot(pressure / 1.e9, vs / 1.e3, color='b', linestyle='-',\n",
    "             marker='o', markerfacecolor='b', markersize=4, label='computation')\n",
    "    plt.plot(pressure / 1.e9, seis_vs / 1.e3, color='k', linestyle='-',\n",
    "             marker='o', markerfacecolor='k', markersize=4, label='reference')\n",
    "    plt.title(\"S wave speed (km/s), %d %% PV\" % (pv*100.0))\n",
    "    plt.xlim(min(pressure) / 1.e9, max(pressure) / 1.e9)\n",
    "    plt.legend(loc='lower right')\n",
    "    plt.ylim(5, 8.0)  \n",
    "    \n",
    "    plt.subplot(1, 2, 2)    \n",
    "    plt.plot(pressure / 1.e9, density / 1.e3, color='b',\n",
    "             linestyle='-', marker='o', markerfacecolor='b', markersize=4)\n",
    "    plt.plot(pressure / 1.e9, seis_rho / 1.e3, color='k',\n",
    "             linestyle='-', marker='o', markerfacecolor='k', markersize=4)\n",
    "    plt.xlim(min(pressure) / 1.e9, max(pressure) / 1.e9)\n",
    "    plt.xlabel(\"Pressure (GPa)\")\n",
    "    plt.title(\"density (kg/m^3)\")\n",
    "    plt.ylim(4.0, 6.0)  \n"
   ]
  },
  {
   "cell_type": "code",
   "execution_count": 7,
   "metadata": {
    "collapsed": false
   },
   "outputs": [
    {
     "data": {
      "text/html": [
       "<script>\n",
       "// Note:\n",
       "// This html code block will run the notebook on startup\n",
       "// and hide all code blocks to provide a clean starting\n",
       "// experience.\n",
       "\n",
       "    require(\n",
       "        ['base/js/namespace', 'jquery'], \n",
       "        function(jupyter, $) {\n",
       "            $(jupyter.events).on(\"kernel_ready.Kernel\", function () {\n",
       "                console.log(\"Auto-running all cells...\");\n",
       "                jupyter.actions.call('jupyter-notebook:run-all-cells');\n",
       "                //jupyter.actions.call('jupyter-notebook:save-notebook');\n",
       "            });\n",
       "        }\n",
       "    );\n",
       "code_show=false; \n",
       "function code_toggle() {\n",
       " if (code_show){\n",
       " $('div.input').hide();\n",
       " } else {\n",
       " $('div.input').show();\n",
       " }\n",
       " code_show = !code_show\n",
       "} \n",
       "function init() { $('div.input').hide();}\n",
       "$( document ).ready(init);\n",
       "$( document ).load(init);\n",
       "\n",
       "</script>\n",
       "<form action=\"javascript:code_toggle()\"><input type=\"submit\" value=\"Click here to toggle on/off the raw code.\"></form>"
      ],
      "text/plain": [
       "<IPython.core.display.HTML object>"
      ]
     },
     "metadata": {},
     "output_type": "display_data"
    }
   ],
   "source": [
    "%%html\n",
    "<script>\n",
    "// Note:\n",
    "// This html code block will run the notebook on startup\n",
    "// and hide all code blocks to provide a clean starting\n",
    "// experience.\n",
    "\n",
    "    require(\n",
    "        ['base/js/namespace', 'jquery'], \n",
    "        function(jupyter, $) {\n",
    "            $(jupyter.events).on(\"kernel_ready.Kernel\", function () {\n",
    "                console.log(\"Auto-running all cells...\");\n",
    "                jupyter.actions.call('jupyter-notebook:run-all-cells');\n",
    "                //jupyter.actions.call('jupyter-notebook:save-notebook');\n",
    "            });\n",
    "        }\n",
    "    );\n",
    "code_show=false; \n",
    "function code_toggle() {\n",
    " if (code_show){\n",
    " $('div.input').hide();\n",
    " } else {\n",
    " $('div.input').show();\n",
    " }\n",
    " code_show = !code_show\n",
    "} \n",
    "function init() { $('div.input').hide();}\n",
    "$( document ).ready(init);\n",
    "$( document ).load(init);\n",
    "\n",
    "</script>\n",
    "<form action=\"javascript:code_toggle()\"><input type=\"submit\" value=\"Click here to toggle on/off the raw code.\"></form>"
   ]
  },
  {
   "cell_type": "code",
   "execution_count": null,
   "metadata": {
    "collapsed": true
   },
   "outputs": [],
   "source": []
  }
 ],
 "metadata": {
  "kernelspec": {
   "display_name": "Python 3",
   "language": "python",
   "name": "python3"
  },
  "language_info": {
   "codemirror_mode": {
    "name": "ipython",
    "version": 3
   },
   "file_extension": ".py",
   "mimetype": "text/x-python",
   "name": "python",
   "nbconvert_exporter": "python",
   "pygments_lexer": "ipython3",
   "version": "3.5.2"
  },
  "widgets": {
   "state": {
    "7fb0a49a00094eb19b7adfc83858ecc7": {
     "views": [
      {
       "cell_index": 3
      }
     ]
    }
   },
   "version": "1.2.0"
  }
 },
 "nbformat": 4,
 "nbformat_minor": 1
}
