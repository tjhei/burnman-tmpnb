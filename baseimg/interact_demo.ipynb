{
 "cells": [
  {
   "cell_type": "code",
   "execution_count": 1,
   "metadata": {
    "collapsed": false
   },
   "outputs": [],
   "source": [
    "%matplotlib notebook \n",
    "from ipywidgets import *\n",
    "import burnman\n",
    "from burnman import minerals\n",
    "import numpy as np\n",
    "import matplotlib.pyplot as plt\n",
    "plt.style.use('bmh')"
   ]
  },
  {
   "cell_type": "markdown",
   "metadata": {},
   "source": [
    "## Attempting to match PREM in the lower mantle using Mg, Si and O\n",
    "\n",
    "** NOTE: please wait until this page loads completely**\n",
    "\n",
    "With only these three elements, the mineralogy will be dominantly Mg-perovskite ($MgSiO_3$) and periclase ($MgO$).\n",
    "We will vary the molar fraction of perovskite, and calculate $V_S$ and density along a reasonable geotherm, comparing this with PREM."
   ]
  },
  {
   "cell_type": "code",
   "execution_count": null,
   "metadata": {
    "collapsed": false
   },
   "outputs": [],
   "source": [
    "pv = 0.5\n",
    "rock = burnman.Composite([minerals.SLB_2011.mg_perovskite(),\n",
    "                          minerals.SLB_2011.periclase()],\n",
    "                          [pv, 1.0-pv])\n",
    "depths = np.linspace(750e3, 2800e3, 20)\n",
    "seismic_model = burnman.seismic.PREM()\n",
    "pressure, seis_rho, seis_vp, seis_vs, seis_vphi = seismic_model.evaluate(\n",
    "    ['pressure', 'density', 'v_p', 'v_s', 'v_phi'], depths)\n",
    "temperature = burnman.geotherm.brown_shankland(pressure)\n",
    "density, vp, vs, vphi = rock.evaluate(\n",
    "    ['density', 'v_p', 'v_s', 'v_phi'], pressure, temperature)\n",
    "\n",
    "fig = plt.figure(figsize=(11,5))\n",
    "ax1 = fig.add_subplot(121)\n",
    "vs_line, = ax1.plot(pressure / 1.e9, vs / 1.e3, linestyle='-',\n",
    "         marker='o', markersize=4, label='Computation')\n",
    "ax1.plot(pressure / 1.e9, seis_vs / 1.e3, linestyle='-',\n",
    "         marker='o', markersize=4, label='PREM')\n",
    "ax1.set_title(\"Shear wave speed ($km/s$), %d%% pv\" % (pv*100.0))\n",
    "ax1.set_xlim(min(pressure) / 1.e9, max(pressure) / 1.e9)\n",
    "ax1.set_ylim(5, 8.0)\n",
    "ax1.set_xlabel(\"Pressure (GPa)\")\n",
    "ax1.set_ylabel('Wave speed ($km/s$)')\n",
    "ax1.legend(loc='lower right')\n",
    "\n",
    "    \n",
    "ax2 = fig.add_subplot(122)    \n",
    "rho_line, = ax2.plot(pressure / 1.e9, density / 1.e3,\n",
    "         linestyle='-', marker='o', markersize=4)\n",
    "ax2.plot(pressure / 1.e9, seis_rho / 1.e3,\n",
    "     linestyle='-', marker='o', markersize=4)\n",
    "ax2.set_xlim(min(pressure) / 1.e9, max(pressure) / 1.e9)\n",
    "ax2.set_ylim(4.0, 6.0)\n",
    "ax2.set_xlabel(\"Pressure (GPa)\")\n",
    "ax2.set_ylabel('Density ($kg/m^3$)')\n",
    "ax2.set_title(\"Density ($kg/m^3$), %d%% pv\" % (pv*100.0))\n",
    "\n",
    "plt.show()"
   ]
  },
  {
   "cell_type": "code",
   "execution_count": 3,
   "metadata": {
    "collapsed": false
   },
   "outputs": [],
   "source": [
    "@interact(pv=FloatSlider(min=0.0, max=1.0, step=0.1,continuous_update=False))\n",
    "def update_plot(pv):\n",
    "    rock = burnman.Composite([minerals.SLB_2011.mg_perovskite(),\n",
    "                              minerals.SLB_2011.periclase()],\n",
    "                              [pv, 1.0-pv])\n",
    "    density, vp, vs, vphi = rock.evaluate(\n",
    "        ['density', 'v_p', 'v_s', 'v_phi'], pressure, temperature)\n",
    "    rho_line.set_data([pressure/1.e9,density/1.e3])\n",
    "    vs_line.set_data([pressure/1.e9,vs/1.e3])\n",
    "    ax1.set_title(\"Shear wave speed ($km/s$), %d%% pv\" % (pv*100.0))\n",
    "    ax2.set_title(\"Density ($kg/m^3$), %d%% pv\" % (pv*100.0))\n",
    "\n",
    "    plt.draw()\n"
   ]
  },
  {
   "cell_type": "code",
   "execution_count": 4,
   "metadata": {
    "collapsed": false
   },
   "outputs": [
    {
     "data": {
      "text/html": [
       "<script>\n",
       "    // Note:\n",
       "    // This html code block will\n",
       "    // 1. do \"run-all-cells\" 0.5s after the kernel is loaded\n",
       "    // 2. hide all code blocks (and offer a button to toggle the code)\n",
       "    require(\n",
       "        ['base/js/namespace', 'jquery'], \n",
       "        function(jupyter, $) {\n",
       "            $(jupyter.events).on(\"kernel_ready.Kernel\", function () {\n",
       "                // js widgets are not available immediately. Instead, trigger this a little later:\n",
       "                console.log(\"kernel_ready triggered, preparing auto run-all-cells\");\n",
       "                setTimeout(function() {\n",
       "                            console.log(\"Auto-running all cells...\");\n",
       "                            jupyter.actions.call('jupyter-notebook:run-all-cells');\n",
       "                           }, 500);\n",
       "                //jupyter.actions.call('jupyter-notebook:save-notebook');\n",
       "            });\n",
       "        }\n",
       "    );\n",
       "code_show=false; \n",
       "function code_toggle() {\n",
       "    if (code_show){\n",
       "\t$('div.input').hide();\n",
       "    } else {\n",
       "\t$('div.input').show();\n",
       "    }\n",
       "    code_show = !code_show\n",
       "} \n",
       "function init() { $('div.input').hide();}\n",
       "$( document ).ready(init);\n",
       "$( document ).load(init);\n",
       "</script>\n",
       "<form action=\"javascript:code_toggle()\"><input type=\"submit\" value=\"Click here to toggle on/off the raw code.\"></form>"
      ],
      "text/plain": [
       "<IPython.core.display.HTML object>"
      ]
     },
     "metadata": {},
     "output_type": "display_data"
    }
   ],
   "source": [
    "%%html\n",
    "<script>\n",
    "    // Note:\n",
    "    // This html code block will\n",
    "    // 1. do \"run-all-cells\" 0.5s after the kernel is loaded\n",
    "    // 2. hide all code blocks (and offer a button to toggle the code)\n",
    "    require(\n",
    "        ['base/js/namespace', 'jquery'], \n",
    "        function(jupyter, $) {\n",
    "            $(jupyter.events).on(\"kernel_ready.Kernel\", function () {\n",
    "                // js widgets are not available immediately. Instead, trigger this a little later:\n",
    "                console.log(\"kernel_ready triggered, preparing auto run-all-cells\");\n",
    "                setTimeout(function() {\n",
    "                            console.log(\"Auto-running all cells...\");\n",
    "                            jupyter.actions.call('jupyter-notebook:run-all-cells');\n",
    "                           }, 500);\n",
    "                //jupyter.actions.call('jupyter-notebook:save-notebook');\n",
    "            });\n",
    "        }\n",
    "    );\n",
    "code_show=false; \n",
    "function code_toggle() {\n",
    "    if (code_show){\n",
    "\t$('div.input').hide();\n",
    "    } else {\n",
    "\t$('div.input').show();\n",
    "    }\n",
    "    code_show = !code_show\n",
    "} \n",
    "function init() { $('div.input').hide();}\n",
    "$( document ).ready(init);\n",
    "$( document ).load(init);\n",
    "</script>\n",
    "<form action=\"javascript:code_toggle()\"><input type=\"submit\" value=\"Click here to toggle on/off the raw code.\"></form>\n"
   ]
  }
 ],
 "metadata": {
  "kernelspec": {
   "display_name": "Python 3",
   "language": "python",
   "name": "python3"
  },
  "language_info": {
   "codemirror_mode": {
    "name": "ipython",
    "version": 3
   },
   "file_extension": ".py",
   "mimetype": "text/x-python",
   "name": "python",
   "nbconvert_exporter": "python",
   "pygments_lexer": "ipython3",
   "version": "3.5.2"
  },
  "widgets": {
   "state": {
    "6e3447a202f340f192dfb19be5bb3b3f": {
     "views": [
      {
       "cell_index": 3
      }
     ]
    }
   },
   "version": "1.2.0"
  }
 },
 "nbformat": 4,
 "nbformat_minor": 1
}
