{
 "cells": [
  {
   "cell_type": "markdown",
   "metadata": {},
   "source": [
    "# Text Input Demo\n",
    "This small demonstration shows a textarea where you can enter text and a way insert text from a local .csv file into it."
   ]
  },
  {
   "cell_type": "code",
   "execution_count": 1,
   "metadata": {
    "collapsed": true
   },
   "outputs": [],
   "source": [
    "%matplotlib inline \n",
    "from ipywidgets import *\n",
    "import burnman\n",
    "from burnman import minerals\n",
    "import numpy as np\n",
    "import matplotlib.pyplot as plt"
   ]
  },
  {
   "cell_type": "code",
   "execution_count": 2,
   "metadata": {
    "collapsed": false
   },
   "outputs": [
    {
     "data": {
      "text/html": [
       "\n",
       "<input type=\"file\" id=\"files\" name=\"file\" />\n",
       "<script>\n",
       "\n",
       "function handleFileSelect(evt) {\n",
       "    var files = evt.target.files; // FileList object\n",
       "    var reader = new FileReader();\n",
       "\n",
       "      // Closure to capture the file information.\n",
       "      reader.onload = function(evt) {\n",
       "        console.log(\"got file data\");\n",
       "        var text = evt.target.result;\n",
       "        \n",
       "    var manager = IPython.WidgetManager._managers[0];\n",
       "    var model_prom = manager.get_model('b38604d80bee43eba6b0aa27a37f64e6');\n",
       "    model_prom.then(function(model) {\n",
       "        model.set('value', text);\n",
       "                for(var p in model)\n",
       "{\n",
       "    //console.log(p + \": \" + model[p]); \n",
       "}\n",
       "        //model.save();\n",
       "        //        console.log(\"saved\");\n",
       "        model.save_changes();\n",
       "    });\n",
       "        \n",
       "        };\n",
       "\n",
       "      // Read in the image file as a data URL.\n",
       "      reader.readAsText(files[0]);\n",
       "    \n",
       "}\n",
       "document.getElementById('files').addEventListener('change', handleFileSelect, false);\n",
       "</script>"
      ],
      "text/plain": [
       "<IPython.core.display.HTML object>"
      ]
     },
     "metadata": {},
     "output_type": "display_data"
    }
   ],
   "source": [
    "from IPython.display import display, HTML \n",
    "from io import BytesIO,StringIO\n",
    "\n",
    "def browsable(x):\n",
    "    return HTML(\"\"\"\n",
    "<input type=\"file\" id=\"files\" name=\"file\" />\n",
    "<script>\n",
    "\n",
    "function handleFileSelect(evt) {\n",
    "    var files = evt.target.files; // FileList object\n",
    "    var reader = new FileReader();\n",
    "\n",
    "      // Closure to capture the file information.\n",
    "      reader.onload = function(evt) {\n",
    "        console.log(\"got file data\");\n",
    "        var text = evt.target.result;\n",
    "        \n",
    "    var manager = IPython.WidgetManager._managers[0];\n",
    "    var model_prom = manager.get_model('MODELID');\n",
    "    model_prom.then(function(model) {\n",
    "        model.set('value', text);\n",
    "                for(var p in model)\n",
    "{\n",
    "    //console.log(p + \": \" + model[p]); \n",
    "}\n",
    "        //model.save();\n",
    "        //        console.log(\"saved\");\n",
    "        model.save_changes();\n",
    "    });\n",
    "        \n",
    "        };\n",
    "\n",
    "      // Read in the image file as a data URL.\n",
    "      reader.readAsText(files[0]);\n",
    "    \n",
    "}\n",
    "document.getElementById('files').addEventListener('change', handleFileSelect, false);\n",
    "</script>\"\"\".replace('MODELID',x.model_id))\n",
    "tx = Textarea(value=\"1 2\\n3 4\")\n",
    "#tx.width=500\n",
    "display(tx, browsable(tx))"
   ]
  },
  {
   "cell_type": "markdown",
   "metadata": {},
   "source": [
    "Press the update button to parse the text from the textbox above into an np.array and compute the sum."
   ]
  },
  {
   "cell_type": "code",
   "execution_count": 11,
   "metadata": {
    "collapsed": false
   },
   "outputs": [
    {
     "name": "stdout",
     "output_type": "stream",
     "text": [
      "computation:\n",
      "[[ 1.  2.]\n",
      " [ 3.  4.]\n",
      " [ 5.  6.]]\n",
      "sum 21.0\n",
      "raw data:\n",
      "1 2\n",
      "3 4\n",
      "5 6\n"
     ]
    },
    {
     "data": {
      "text/html": [
       "\n",
       "    <a id=\"save\" download=\"test.txt\" href=\"data:text/plain;base64,MSAyCjMgNAo1IDY=\">SAVE</a>"
      ],
      "text/plain": [
       "<IPython.core.display.HTML object>"
      ]
     },
     "metadata": {},
     "output_type": "display_data"
    }
   ],
   "source": [
    "from IPython.display import clear_output\n",
    "import base64\n",
    "\n",
    "def onclick(b):\n",
    "    clear_output()\n",
    "    print(\"computation:\")\n",
    "    table = np.genfromtxt(BytesIO(tx.value.encode('UTF-8')))\n",
    "    print(table)\n",
    "    print(\"sum\", np.sum(table))\n",
    "    print(\"raw data:\")\n",
    "    print(tx.value)\n",
    "    a=HTML(\"\"\"\n",
    "    <a id=\"save\" download=\"test.txt\" href=\"data:text/plain;base64,TEXT\">SAVE</a>\"\"\".replace(\"TEXT\",base64.b64encode(tx.value.encode('UTF-8')).decode(\"utf-8\")))\n",
    "    display(a)\n",
    "    \n",
    "btn = Button(description=\"update\")\n",
    "btn.on_click(onclick)\n",
    "display(btn)"
   ]
  },
  {
   "cell_type": "markdown",
   "metadata": {},
   "source": [
    "---\n",
    "\n",
    "Press the button below to see the source code:"
   ]
  },
  {
   "cell_type": "code",
   "execution_count": 4,
   "metadata": {
    "collapsed": false
   },
   "outputs": [
    {
     "data": {
      "text/html": [
       "<script>\n",
       "// Note:\n",
       "// This html code block will\n",
       "// 1. do \"run-all-cells\" 0.5s after the kernel is loaded\n",
       "// 2. hide all code blocks (and offer a button to toggle the code)\n",
       "    require(\n",
       "        ['base/js/namespace', 'jquery'], \n",
       "        function(jupyter, $) {\n",
       "            $(jupyter.events).on(\"kernel_ready.Kernel\", function () {\n",
       "                    // js widgets are not available immediately. Instead, trigger this a little later:\n",
       "                    console.log(\"kernel_ready triggered, preparing auto run-all-cells\");\n",
       "                    setTimeout(function()\n",
       "                               {\n",
       "                console.log(\"Auto-running all cells...\");\n",
       "                jupyter.actions.call('jupyter-notebook:run-all-cells');\n",
       "                               }, 500);\n",
       "                //jupyter.actions.call('jupyter-notebook:save-notebook');\n",
       "            });\n",
       "        }\n",
       "    );\n",
       "code_show=false; \n",
       "function code_toggle() {\n",
       " if (code_show){\n",
       " $('div.input').hide();\n",
       " } else {\n",
       " $('div.input').show();\n",
       " }\n",
       " code_show = !code_show\n",
       "} \n",
       "function init() { $('div.input').hide();}\n",
       "$( document ).ready(init);\n",
       "$( document ).load(init);\n",
       "\n",
       "</script>\n",
       "<form action=\"javascript:code_toggle()\"><input type=\"submit\" value=\"Click here to toggle on/off the raw code.\"></form>"
      ],
      "text/plain": [
       "<IPython.core.display.HTML object>"
      ]
     },
     "metadata": {},
     "output_type": "display_data"
    }
   ],
   "source": [
    "%%html\n",
    "<script>\n",
    "// Note:\n",
    "// This html code block will\n",
    "// 1. do \"run-all-cells\" 0.5s after the kernel is loaded\n",
    "// 2. hide all code blocks (and offer a button to toggle the code)\n",
    "    require(\n",
    "        ['base/js/namespace', 'jquery'], \n",
    "        function(jupyter, $) {\n",
    "            $(jupyter.events).on(\"kernel_ready.Kernel\", function () {\n",
    "                    // js widgets are not available immediately. Instead, trigger this a little later:\n",
    "                    console.log(\"kernel_ready triggered, preparing auto run-all-cells\");\n",
    "                    setTimeout(function()\n",
    "                               {\n",
    "                console.log(\"Auto-running all cells...\");\n",
    "                jupyter.actions.call('jupyter-notebook:run-all-cells');\n",
    "                               }, 500);\n",
    "                //jupyter.actions.call('jupyter-notebook:save-notebook');\n",
    "            });\n",
    "        }\n",
    "    );\n",
    "code_show=false; \n",
    "function code_toggle() {\n",
    " if (code_show){\n",
    " $('div.input').hide();\n",
    " } else {\n",
    " $('div.input').show();\n",
    " }\n",
    " code_show = !code_show\n",
    "} \n",
    "function init() { $('div.input').hide();}\n",
    "$( document ).ready(init);\n",
    "$( document ).load(init);\n",
    "\n",
    "</script>\n",
    "<form action=\"javascript:code_toggle()\"><input type=\"submit\" value=\"Click here to toggle on/off the raw code.\"></form>"
   ]
  },
  {
   "cell_type": "code",
   "execution_count": null,
   "metadata": {
    "collapsed": true
   },
   "outputs": [],
   "source": []
  }
 ],
 "metadata": {
  "kernelspec": {
   "display_name": "Python 3",
   "language": "python",
   "name": "python3"
  },
  "language_info": {
   "codemirror_mode": {
    "name": "ipython",
    "version": 3
   },
   "file_extension": ".py",
   "mimetype": "text/x-python",
   "name": "python",
   "nbconvert_exporter": "python",
   "pygments_lexer": "ipython3",
   "version": "3.5.2"
  },
  "widgets": {
   "state": {
    "6ef6ce660c5843edae087d30881865a1": {
     "views": [
      {
       "cell_index": 4
      }
     ]
    },
    "b38604d80bee43eba6b0aa27a37f64e6": {
     "views": [
      {
       "cell_index": 2
      }
     ]
    }
   },
   "version": "1.2.0"
  }
 },
 "nbformat": 4,
 "nbformat_minor": 1
}
